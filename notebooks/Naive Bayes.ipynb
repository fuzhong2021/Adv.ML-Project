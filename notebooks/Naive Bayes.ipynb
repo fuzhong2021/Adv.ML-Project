{
 "cells": [
  {
   "cell_type": "code",
   "execution_count": 10,
   "metadata": {},
   "outputs": [],
   "source": [
    "from sklearn.feature_extraction.text import CountVectorizer\n",
    "from sklearn.naive_bayes import MultinomialNB\n",
    "from sklearn.metrics import accuracy_score, precision_score, recall_score, f1_score, roc_auc_score\n",
    "from sklearn.model_selection import train_test_split\n",
    "import pandas as pd"
   ]
  },
  {
   "cell_type": "code",
   "execution_count": 21,
   "metadata": {},
   "outputs": [],
   "source": [
    "# Lade Datensatz\n",
    "df = pd.read_csv('../data/processed/processed.csv', delimiter=',', encoding='utf-8')"
   ]
  },
  {
   "cell_type": "code",
   "execution_count": 13,
   "metadata": {},
   "outputs": [],
   "source": [
    "# Konvertiere alle Werte in der Spalte 'Text' in Strings\n",
    "df['Text'] = df['Text'].astype(str)\n",
    "\n",
    "# Bereite Textdaten vor\n",
    "max_features = 2000\n",
    "\n",
    "# Initialisieren Sie den Vektorisierer\n",
    "vectorizer = CountVectorizer(max_features=max_features)"
   ]
  },
  {
   "cell_type": "code",
   "execution_count": 14,
   "metadata": {},
   "outputs": [],
   "source": [
    "# Passen Sie den Vektorisierer an die Daten an und transformieren Sie den Text in Wortzählungen\n",
    "X = vectorizer.fit_transform(df['Text'])\n",
    "\n",
    "# Der Output ist eine sparse Matrix. Sie können sie in ein numpy Array umwandeln, wenn Sie möchten:\n",
    "X = X.toarray()\n",
    "\n",
    "y = df['Populism'].values"
   ]
  },
  {
   "cell_type": "code",
   "execution_count": 17,
   "metadata": {},
   "outputs": [],
   "source": [
    "# Initialisieren Sie das Modell\n",
    "model = MultinomialNB()\n",
    "\n",
    "# Teilen Sie die Daten in Trainings- und Testdaten\n",
    "X_train, X_test, y_train, y_test = train_test_split(X, y, test_size=0.2, random_state=42)\n"
   ]
  },
  {
   "cell_type": "code",
   "execution_count": 18,
   "metadata": {},
   "outputs": [],
   "source": [
    "# Trainieren Sie das Modell\n",
    "history = model.fit(X_train, y_train)"
   ]
  },
  {
   "cell_type": "code",
   "execution_count": 19,
   "metadata": {},
   "outputs": [
    {
     "name": "stdout",
     "output_type": "stream",
     "text": [
      "Training Accuracy:  1.0\n",
      "Validation Accuracy:  1.0\n",
      "Training Precision:  0.0\n",
      "Validation Precision:  0.0\n"
     ]
    },
    {
     "name": "stderr",
     "output_type": "stream",
     "text": [
      "/Users/furkansaygin/.local/share/virtualenvs/Adv.ML-Project-15q8ow0S/lib/python3.11/site-packages/sklearn/metrics/_classification.py:1344: UndefinedMetricWarning: Precision is ill-defined and being set to 0.0 due to no predicted samples. Use `zero_division` parameter to control this behavior.\n",
      "  _warn_prf(average, modifier, msg_start, len(result))\n",
      "/Users/furkansaygin/.local/share/virtualenvs/Adv.ML-Project-15q8ow0S/lib/python3.11/site-packages/sklearn/metrics/_classification.py:1344: UndefinedMetricWarning: Precision is ill-defined and being set to 0.0 due to no predicted samples. Use `zero_division` parameter to control this behavior.\n",
      "  _warn_prf(average, modifier, msg_start, len(result))\n",
      "/Users/furkansaygin/.local/share/virtualenvs/Adv.ML-Project-15q8ow0S/lib/python3.11/site-packages/sklearn/metrics/_classification.py:1344: UndefinedMetricWarning: Recall is ill-defined and being set to 0.0 due to no true samples. Use `zero_division` parameter to control this behavior.\n",
      "  _warn_prf(average, modifier, msg_start, len(result))\n",
      "/Users/furkansaygin/.local/share/virtualenvs/Adv.ML-Project-15q8ow0S/lib/python3.11/site-packages/sklearn/metrics/_classification.py:1344: UndefinedMetricWarning: Recall is ill-defined and being set to 0.0 due to no true samples. Use `zero_division` parameter to control this behavior.\n",
      "  _warn_prf(average, modifier, msg_start, len(result))\n"
     ]
    },
    {
     "name": "stdout",
     "output_type": "stream",
     "text": [
      "Training Recall:  0.0\n",
      "Validation Recall:  0.0\n",
      "Training F1:  0.0\n",
      "Validation F1:  0.0\n"
     ]
    },
    {
     "name": "stderr",
     "output_type": "stream",
     "text": [
      "/Users/furkansaygin/.local/share/virtualenvs/Adv.ML-Project-15q8ow0S/lib/python3.11/site-packages/sklearn/metrics/_classification.py:1609: UndefinedMetricWarning: F-score is ill-defined and being set to 0.0 due to no true nor predicted samples. Use `zero_division` parameter to control this behavior.\n",
      "  _warn_prf(average, \"true nor predicted\", \"F-score is\", len(true_sum))\n",
      "/Users/furkansaygin/.local/share/virtualenvs/Adv.ML-Project-15q8ow0S/lib/python3.11/site-packages/sklearn/metrics/_classification.py:1609: UndefinedMetricWarning: F-score is ill-defined and being set to 0.0 due to no true nor predicted samples. Use `zero_division` parameter to control this behavior.\n",
      "  _warn_prf(average, \"true nor predicted\", \"F-score is\", len(true_sum))\n"
     ]
    },
    {
     "ename": "ValueError",
     "evalue": "Only one class present in y_true. ROC AUC score is not defined in that case.",
     "output_type": "error",
     "traceback": [
      "\u001b[0;31m---------------------------------------------------------------------------\u001b[0m",
      "\u001b[0;31mValueError\u001b[0m                                Traceback (most recent call last)",
      "Cell \u001b[0;32mIn[19], line 12\u001b[0m\n\u001b[1;32m     10\u001b[0m \u001b[38;5;28mprint\u001b[39m(\u001b[38;5;124m\"\u001b[39m\u001b[38;5;124mTraining F1: \u001b[39m\u001b[38;5;124m\"\u001b[39m, f1_score(y_train, y_pred_train))\n\u001b[1;32m     11\u001b[0m \u001b[38;5;28mprint\u001b[39m(\u001b[38;5;124m\"\u001b[39m\u001b[38;5;124mValidation F1: \u001b[39m\u001b[38;5;124m\"\u001b[39m, f1_score(y_test, y_pred_val))\n\u001b[0;32m---> 12\u001b[0m \u001b[38;5;28mprint\u001b[39m(\u001b[38;5;124m\"\u001b[39m\u001b[38;5;124mTraining AUC: \u001b[39m\u001b[38;5;124m\"\u001b[39m, \u001b[43mroc_auc_score\u001b[49m\u001b[43m(\u001b[49m\u001b[43my_train\u001b[49m\u001b[43m,\u001b[49m\u001b[43m \u001b[49m\u001b[43my_pred_train\u001b[49m\u001b[43m)\u001b[49m)\n\u001b[1;32m     13\u001b[0m \u001b[38;5;28mprint\u001b[39m(\u001b[38;5;124m\"\u001b[39m\u001b[38;5;124mValidation AUC: \u001b[39m\u001b[38;5;124m\"\u001b[39m, roc_auc_score(y_test, y_pred_val))\n",
      "File \u001b[0;32m~/.local/share/virtualenvs/Adv.ML-Project-15q8ow0S/lib/python3.11/site-packages/sklearn/metrics/_ranking.py:572\u001b[0m, in \u001b[0;36mroc_auc_score\u001b[0;34m(y_true, y_score, average, sample_weight, max_fpr, multi_class, labels)\u001b[0m\n\u001b[1;32m    <a href='file:///Users/furkansaygin/.local/share/virtualenvs/Adv.ML-Project-15q8ow0S/lib/python3.11/site-packages/sklearn/metrics/_ranking.py?line=569'>570</a>\u001b[0m     labels \u001b[39m=\u001b[39m np\u001b[39m.\u001b[39munique(y_true)\n\u001b[1;32m    <a href='file:///Users/furkansaygin/.local/share/virtualenvs/Adv.ML-Project-15q8ow0S/lib/python3.11/site-packages/sklearn/metrics/_ranking.py?line=570'>571</a>\u001b[0m     y_true \u001b[39m=\u001b[39m label_binarize(y_true, classes\u001b[39m=\u001b[39mlabels)[:, \u001b[39m0\u001b[39m]\n\u001b[0;32m--> <a href='file:///Users/furkansaygin/.local/share/virtualenvs/Adv.ML-Project-15q8ow0S/lib/python3.11/site-packages/sklearn/metrics/_ranking.py?line=571'>572</a>\u001b[0m     \u001b[39mreturn\u001b[39;00m _average_binary_score(\n\u001b[1;32m    <a href='file:///Users/furkansaygin/.local/share/virtualenvs/Adv.ML-Project-15q8ow0S/lib/python3.11/site-packages/sklearn/metrics/_ranking.py?line=572'>573</a>\u001b[0m         partial(_binary_roc_auc_score, max_fpr\u001b[39m=\u001b[39;49mmax_fpr),\n\u001b[1;32m    <a href='file:///Users/furkansaygin/.local/share/virtualenvs/Adv.ML-Project-15q8ow0S/lib/python3.11/site-packages/sklearn/metrics/_ranking.py?line=573'>574</a>\u001b[0m         y_true,\n\u001b[1;32m    <a href='file:///Users/furkansaygin/.local/share/virtualenvs/Adv.ML-Project-15q8ow0S/lib/python3.11/site-packages/sklearn/metrics/_ranking.py?line=574'>575</a>\u001b[0m         y_score,\n\u001b[1;32m    <a href='file:///Users/furkansaygin/.local/share/virtualenvs/Adv.ML-Project-15q8ow0S/lib/python3.11/site-packages/sklearn/metrics/_ranking.py?line=575'>576</a>\u001b[0m         average,\n\u001b[1;32m    <a href='file:///Users/furkansaygin/.local/share/virtualenvs/Adv.ML-Project-15q8ow0S/lib/python3.11/site-packages/sklearn/metrics/_ranking.py?line=576'>577</a>\u001b[0m         sample_weight\u001b[39m=\u001b[39;49msample_weight,\n\u001b[1;32m    <a href='file:///Users/furkansaygin/.local/share/virtualenvs/Adv.ML-Project-15q8ow0S/lib/python3.11/site-packages/sklearn/metrics/_ranking.py?line=577'>578</a>\u001b[0m     )\n\u001b[1;32m    <a href='file:///Users/furkansaygin/.local/share/virtualenvs/Adv.ML-Project-15q8ow0S/lib/python3.11/site-packages/sklearn/metrics/_ranking.py?line=578'>579</a>\u001b[0m \u001b[39melse\u001b[39;00m:  \u001b[39m# multilabel-indicator\u001b[39;00m\n\u001b[1;32m    <a href='file:///Users/furkansaygin/.local/share/virtualenvs/Adv.ML-Project-15q8ow0S/lib/python3.11/site-packages/sklearn/metrics/_ranking.py?line=579'>580</a>\u001b[0m     \u001b[39mreturn\u001b[39;00m _average_binary_score(\n\u001b[1;32m    <a href='file:///Users/furkansaygin/.local/share/virtualenvs/Adv.ML-Project-15q8ow0S/lib/python3.11/site-packages/sklearn/metrics/_ranking.py?line=580'>581</a>\u001b[0m         partial(_binary_roc_auc_score, max_fpr\u001b[39m=\u001b[39mmax_fpr),\n\u001b[1;32m    <a href='file:///Users/furkansaygin/.local/share/virtualenvs/Adv.ML-Project-15q8ow0S/lib/python3.11/site-packages/sklearn/metrics/_ranking.py?line=581'>582</a>\u001b[0m         y_true,\n\u001b[0;32m   (...)\u001b[0m\n\u001b[1;32m    <a href='file:///Users/furkansaygin/.local/share/virtualenvs/Adv.ML-Project-15q8ow0S/lib/python3.11/site-packages/sklearn/metrics/_ranking.py?line=584'>585</a>\u001b[0m         sample_weight\u001b[39m=\u001b[39msample_weight,\n\u001b[1;32m    <a href='file:///Users/furkansaygin/.local/share/virtualenvs/Adv.ML-Project-15q8ow0S/lib/python3.11/site-packages/sklearn/metrics/_ranking.py?line=585'>586</a>\u001b[0m     )\n",
      "File \u001b[0;32m~/.local/share/virtualenvs/Adv.ML-Project-15q8ow0S/lib/python3.11/site-packages/sklearn/metrics/_base.py:75\u001b[0m, in \u001b[0;36m_average_binary_score\u001b[0;34m(binary_metric, y_true, y_score, average, sample_weight)\u001b[0m\n\u001b[1;32m     <a href='file:///Users/furkansaygin/.local/share/virtualenvs/Adv.ML-Project-15q8ow0S/lib/python3.11/site-packages/sklearn/metrics/_base.py?line=71'>72</a>\u001b[0m     \u001b[39mraise\u001b[39;00m \u001b[39mValueError\u001b[39;00m(\u001b[39m\"\u001b[39m\u001b[39m{0}\u001b[39;00m\u001b[39m format is not supported\u001b[39m\u001b[39m\"\u001b[39m\u001b[39m.\u001b[39mformat(y_type))\n\u001b[1;32m     <a href='file:///Users/furkansaygin/.local/share/virtualenvs/Adv.ML-Project-15q8ow0S/lib/python3.11/site-packages/sklearn/metrics/_base.py?line=73'>74</a>\u001b[0m \u001b[39mif\u001b[39;00m y_type \u001b[39m==\u001b[39m \u001b[39m\"\u001b[39m\u001b[39mbinary\u001b[39m\u001b[39m\"\u001b[39m:\n\u001b[0;32m---> <a href='file:///Users/furkansaygin/.local/share/virtualenvs/Adv.ML-Project-15q8ow0S/lib/python3.11/site-packages/sklearn/metrics/_base.py?line=74'>75</a>\u001b[0m     \u001b[39mreturn\u001b[39;00m binary_metric(y_true, y_score, sample_weight\u001b[39m=\u001b[39;49msample_weight)\n\u001b[1;32m     <a href='file:///Users/furkansaygin/.local/share/virtualenvs/Adv.ML-Project-15q8ow0S/lib/python3.11/site-packages/sklearn/metrics/_base.py?line=76'>77</a>\u001b[0m check_consistent_length(y_true, y_score, sample_weight)\n\u001b[1;32m     <a href='file:///Users/furkansaygin/.local/share/virtualenvs/Adv.ML-Project-15q8ow0S/lib/python3.11/site-packages/sklearn/metrics/_base.py?line=77'>78</a>\u001b[0m y_true \u001b[39m=\u001b[39m check_array(y_true)\n",
      "File \u001b[0;32m~/.local/share/virtualenvs/Adv.ML-Project-15q8ow0S/lib/python3.11/site-packages/sklearn/metrics/_ranking.py:339\u001b[0m, in \u001b[0;36m_binary_roc_auc_score\u001b[0;34m(y_true, y_score, sample_weight, max_fpr)\u001b[0m\n\u001b[1;32m    <a href='file:///Users/furkansaygin/.local/share/virtualenvs/Adv.ML-Project-15q8ow0S/lib/python3.11/site-packages/sklearn/metrics/_ranking.py?line=336'>337</a>\u001b[0m \u001b[39m\u001b[39m\u001b[39m\"\"\"Binary roc auc score.\"\"\"\u001b[39;00m\n\u001b[1;32m    <a href='file:///Users/furkansaygin/.local/share/virtualenvs/Adv.ML-Project-15q8ow0S/lib/python3.11/site-packages/sklearn/metrics/_ranking.py?line=337'>338</a>\u001b[0m \u001b[39mif\u001b[39;00m \u001b[39mlen\u001b[39m(np\u001b[39m.\u001b[39munique(y_true)) \u001b[39m!=\u001b[39m \u001b[39m2\u001b[39m:\n\u001b[0;32m--> <a href='file:///Users/furkansaygin/.local/share/virtualenvs/Adv.ML-Project-15q8ow0S/lib/python3.11/site-packages/sklearn/metrics/_ranking.py?line=338'>339</a>\u001b[0m     \u001b[39mraise\u001b[39;00m \u001b[39mValueError\u001b[39;00m(\n\u001b[1;32m    <a href='file:///Users/furkansaygin/.local/share/virtualenvs/Adv.ML-Project-15q8ow0S/lib/python3.11/site-packages/sklearn/metrics/_ranking.py?line=339'>340</a>\u001b[0m         \u001b[39m\"\u001b[39m\u001b[39mOnly one class present in y_true. ROC AUC score \u001b[39m\u001b[39m\"\u001b[39m\n\u001b[1;32m    <a href='file:///Users/furkansaygin/.local/share/virtualenvs/Adv.ML-Project-15q8ow0S/lib/python3.11/site-packages/sklearn/metrics/_ranking.py?line=340'>341</a>\u001b[0m         \u001b[39m\"\u001b[39m\u001b[39mis not defined in that case.\u001b[39m\u001b[39m\"\u001b[39m\n\u001b[1;32m    <a href='file:///Users/furkansaygin/.local/share/virtualenvs/Adv.ML-Project-15q8ow0S/lib/python3.11/site-packages/sklearn/metrics/_ranking.py?line=341'>342</a>\u001b[0m     )\n\u001b[1;32m    <a href='file:///Users/furkansaygin/.local/share/virtualenvs/Adv.ML-Project-15q8ow0S/lib/python3.11/site-packages/sklearn/metrics/_ranking.py?line=343'>344</a>\u001b[0m fpr, tpr, _ \u001b[39m=\u001b[39m roc_curve(y_true, y_score, sample_weight\u001b[39m=\u001b[39msample_weight)\n\u001b[1;32m    <a href='file:///Users/furkansaygin/.local/share/virtualenvs/Adv.ML-Project-15q8ow0S/lib/python3.11/site-packages/sklearn/metrics/_ranking.py?line=344'>345</a>\u001b[0m \u001b[39mif\u001b[39;00m max_fpr \u001b[39mis\u001b[39;00m \u001b[39mNone\u001b[39;00m \u001b[39mor\u001b[39;00m max_fpr \u001b[39m==\u001b[39m \u001b[39m1\u001b[39m:\n",
      "\u001b[0;31mValueError\u001b[0m: Only one class present in y_true. ROC AUC score is not defined in that case."
     ]
    }
   ],
   "source": [
    "y_pred_train = model.predict(X_train)\n",
    "y_pred_val = model.predict(X_test)\n",
    "\n",
    "print(\"Training Accuracy: \", accuracy_score(y_train, y_pred_train))\n",
    "print(\"Validation Accuracy: \", accuracy_score(y_test, y_pred_val))\n",
    "print(\"Training Precision: \", precision_score(y_train, y_pred_train))\n",
    "print(\"Validation Precision: \", precision_score(y_test, y_pred_val))\n",
    "print(\"Training Recall: \", recall_score(y_train, y_pred_train))\n",
    "print(\"Validation Recall: \", recall_score(y_test, y_pred_val))\n",
    "print(\"Training F1: \", f1_score(y_train, y_pred_train))\n",
    "print(\"Validation F1: \", f1_score(y_test, y_pred_val))\n",
    "print(\"Training AUC: \", roc_auc_score(y_train, y_pred_train))\n",
    "print(\"Validation AUC: \", roc_auc_score(y_test, y_pred_val))"
   ]
  }
 ],
 "metadata": {
  "interpreter": {
   "hash": "30ccc4f4ab94fa83cedf8cde4b4a005fda1ce3b29345c4b85bc5a1ebd771aaca"
  },
  "kernelspec": {
   "display_name": "Python 3.11.2 ('Adv.ML-Project-15q8ow0S')",
   "language": "python",
   "name": "python3"
  },
  "language_info": {
   "codemirror_mode": {
    "name": "ipython",
    "version": 3
   },
   "file_extension": ".py",
   "mimetype": "text/x-python",
   "name": "python",
   "nbconvert_exporter": "python",
   "pygments_lexer": "ipython3",
   "version": "3.11.2"
  },
  "orig_nbformat": 4
 },
 "nbformat": 4,
 "nbformat_minor": 2
}
