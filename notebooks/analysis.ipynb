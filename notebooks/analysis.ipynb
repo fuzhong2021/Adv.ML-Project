{
 "cells": [
  {
   "cell_type": "code",
   "execution_count": 1,
   "metadata": {},
   "outputs": [],
   "source": [
    "import pandas as pd\n",
    "from sklearn.feature_extraction.text import CountVectorizer\n",
    "from sklearn.feature_extraction.text import TfidfTransformer\n",
    "import chardet\n"
   ]
  },
  {
   "cell_type": "code",
   "execution_count": 2,
   "metadata": {},
   "outputs": [],
   "source": [
    "# Laden Sie Ihre Daten\n",
    "df = pd.read_csv('../data/raw/gpd_v2_20220427.csv', delimiter=',', encoding='utf-8')"
   ]
  },
  {
   "cell_type": "code",
   "execution_count": 4,
   "metadata": {},
   "outputs": [
    {
     "name": "stdout",
     "output_type": "stream",
     "text": [
      "Index(['merging_variable', 'country', 'leader', 'party', 'lr', 'president',\n",
      "       'term', 'startofterm', 'yearbegin', 'endofterm', 'yearend',\n",
      "       'speechtype', 'speechnum', 'codernum', 'rubricgrade', 'averagerubric',\n",
      "       'totalaverage', 'wb_region', 'region'],\n",
      "      dtype='object')\n"
     ]
    }
   ],
   "source": [
    "\n",
    "import os\n",
    "# Teilen Sie die Daten in populistisch und nicht populistisch\n",
    "print(df.columns)\n",
    "\n",
    "populist_files = df[df['rubricgrade'] == 2]['merging_variable']\n",
    "non_populist_files = df[df['rubricgrade'] == 0]['merging_variable']\n",
    "\n",
    "# Verzeichnis mit Ihren Textdateien\n",
    "text_files_directory = '/Users/furkansaygin/Documents/Studium/ML Projekt 2/Adv.ML-Project/data/raw/speeches_20220427/'\n",
    "\n",
    "# Funktion zum Lesen der Dateiinhalte\n",
    "def read_file_contents(filename):\n",
    "    filepath = os.path.join(text_files_directory, filename)\n",
    "    \n",
    "    if os.path.isfile(filepath):\n",
    "        with open(filepath, 'rb') as file:\n",
    "            rawdata = file.read()\n",
    "        encoding = chardet.detect(rawdata)['encoding']\n",
    "        with open(filepath, 'r', encoding=encoding) as file:\n",
    "            return file.read().replace('\\n', '')\n",
    "\n",
    "    else:\n",
    "        return None  # oder ein leerer String '', je nachdem, was in Ihrem Fall am besten passt\n",
    "\n",
    "\n",
    "# Entferne alle Zeilen mit fehlenden Werten in 'merging_variable'\n",
    "df = df.dropna(subset=['merging_variable'])\n",
    "\n",
    "# Hinzufügen der Dateiinhalte zu Ihrem DataFrame\n",
    "df['file_contents'] = df['merging_variable'].apply(read_file_contents)\n",
    "\n",
    "\n",
    "# Speichere den bereinigten Datensatz\n",
    "df.to_csv('../data/processed/gpd_processed.csv', index=False)\n",
    "\n",
    "\n",
    "\n"
   ]
  }
 ],
 "metadata": {
  "interpreter": {
   "hash": "0f89325c4e608955f9112ed8991acc730d82c7a6d04377adb00f47e06b2b8546"
  },
  "kernelspec": {
   "display_name": "Python 3.11.2 ('facial_recognition_software-zpc5VR0q')",
   "language": "python",
   "name": "python3"
  },
  "language_info": {
   "codemirror_mode": {
    "name": "ipython",
    "version": 3
   },
   "file_extension": ".py",
   "mimetype": "text/x-python",
   "name": "python",
   "nbconvert_exporter": "python",
   "pygments_lexer": "ipython3",
   "version": "3.11.2"
  },
  "orig_nbformat": 4
 },
 "nbformat": 4,
 "nbformat_minor": 2
}
