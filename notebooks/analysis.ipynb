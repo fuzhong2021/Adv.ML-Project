{
 "cells": [
  {
   "cell_type": "code",
   "execution_count": 2,
   "metadata": {},
   "outputs": [],
   "source": [
    "import pandas as pd\n",
    "from sklearn.feature_extraction.text import CountVectorizer\n",
    "from sklearn.feature_extraction.text import TfidfTransformer"
   ]
  },
  {
   "cell_type": "code",
   "execution_count": 5,
   "metadata": {},
   "outputs": [],
   "source": [
    "# Laden Sie Ihre Daten\n",
    "df = pd.read_csv('../data/raw/gpd_v2_20220427.csv')"
   ]
  },
  {
   "cell_type": "code",
   "execution_count": 17,
   "metadata": {},
   "outputs": [
    {
     "name": "stdout",
     "output_type": "stream",
     "text": [
      "Index(['merging_variable', 'country', 'leader', 'party', 'lr', 'president',\n",
      "       'term', 'startofterm', 'yearbegin', 'endofterm', 'yearend',\n",
      "       'speechtype', 'speechnum', 'codernum', 'rubricgrade', 'averagerubric',\n",
      "       'totalaverage', 'wb_region', 'region'],\n",
      "      dtype='object')\n"
     ]
    },
    {
     "ename": "TypeError",
     "evalue": "join() argument must be str, bytes, or os.PathLike object, not 'float'",
     "output_type": "error",
     "traceback": [
      "\u001b[0;31m---------------------------------------------------------------------------\u001b[0m",
      "\u001b[0;31mTypeError\u001b[0m                                 Traceback (most recent call last)",
      "Cell \u001b[0;32mIn[17], line 23\u001b[0m\n\u001b[1;32m     20\u001b[0m         \u001b[38;5;28;01mreturn\u001b[39;00m \u001b[38;5;28;01mNone\u001b[39;00m  \u001b[38;5;66;03m# oder ein leerer String '', je nachdem, was in Ihrem Fall am besten passt\u001b[39;00m\n\u001b[1;32m     22\u001b[0m \u001b[38;5;66;03m# Hinzufügen der Dateiinhalte zu Ihrem DataFrame\u001b[39;00m\n\u001b[0;32m---> 23\u001b[0m df[\u001b[38;5;124m'\u001b[39m\u001b[38;5;124mfile_contents\u001b[39m\u001b[38;5;124m'\u001b[39m] \u001b[38;5;241m=\u001b[39m \u001b[43mdf\u001b[49m\u001b[43m[\u001b[49m\u001b[38;5;124;43m'\u001b[39;49m\u001b[38;5;124;43mmerging_variable\u001b[39;49m\u001b[38;5;124;43m'\u001b[39;49m\u001b[43m]\u001b[49m\u001b[38;5;241;43m.\u001b[39;49m\u001b[43mapply\u001b[49m\u001b[43m(\u001b[49m\u001b[43mread_file_contents\u001b[49m\u001b[43m)\u001b[49m\n\u001b[1;32m     25\u001b[0m \u001b[38;5;66;03m# Speichere den bereinigten Datensatz\u001b[39;00m\n\u001b[1;32m     26\u001b[0m df\u001b[38;5;241m.\u001b[39mto_csv(\u001b[38;5;124m'\u001b[39m\u001b[38;5;124mdata/processed/gpd_processed.csv\u001b[39m\u001b[38;5;124m'\u001b[39m, index\u001b[38;5;241m=\u001b[39m\u001b[38;5;28;01mFalse\u001b[39;00m)\n",
      "File \u001b[0;32m~/.local/share/virtualenvs/facial_recognition_software-zpc5VR0q/lib/python3.11/site-packages/pandas/core/series.py:4630\u001b[0m, in \u001b[0;36mSeries.apply\u001b[0;34m(self, func, convert_dtype, args, **kwargs)\u001b[0m\n\u001b[1;32m   <a href='file:///Users/furkansaygin/.local/share/virtualenvs/facial_recognition_software-zpc5VR0q/lib/python3.11/site-packages/pandas/core/series.py?line=4519'>4520</a>\u001b[0m \u001b[39mdef\u001b[39;00m \u001b[39mapply\u001b[39m(\n\u001b[1;32m   <a href='file:///Users/furkansaygin/.local/share/virtualenvs/facial_recognition_software-zpc5VR0q/lib/python3.11/site-packages/pandas/core/series.py?line=4520'>4521</a>\u001b[0m     \u001b[39mself\u001b[39m,\n\u001b[1;32m   <a href='file:///Users/furkansaygin/.local/share/virtualenvs/facial_recognition_software-zpc5VR0q/lib/python3.11/site-packages/pandas/core/series.py?line=4521'>4522</a>\u001b[0m     func: AggFuncType,\n\u001b[0;32m   (...)\u001b[0m\n\u001b[1;32m   <a href='file:///Users/furkansaygin/.local/share/virtualenvs/facial_recognition_software-zpc5VR0q/lib/python3.11/site-packages/pandas/core/series.py?line=4524'>4525</a>\u001b[0m     \u001b[39m*\u001b[39m\u001b[39m*\u001b[39mkwargs,\n\u001b[1;32m   <a href='file:///Users/furkansaygin/.local/share/virtualenvs/facial_recognition_software-zpc5VR0q/lib/python3.11/site-packages/pandas/core/series.py?line=4525'>4526</a>\u001b[0m ) \u001b[39m-\u001b[39m\u001b[39m>\u001b[39m DataFrame \u001b[39m|\u001b[39m Series:\n\u001b[1;32m   <a href='file:///Users/furkansaygin/.local/share/virtualenvs/facial_recognition_software-zpc5VR0q/lib/python3.11/site-packages/pandas/core/series.py?line=4526'>4527</a>\u001b[0m \u001b[39m    \u001b[39m\u001b[39m\"\"\"\u001b[39;00m\n\u001b[1;32m   <a href='file:///Users/furkansaygin/.local/share/virtualenvs/facial_recognition_software-zpc5VR0q/lib/python3.11/site-packages/pandas/core/series.py?line=4527'>4528</a>\u001b[0m \u001b[39m    Invoke function on values of Series.\u001b[39;00m\n\u001b[1;32m   <a href='file:///Users/furkansaygin/.local/share/virtualenvs/facial_recognition_software-zpc5VR0q/lib/python3.11/site-packages/pandas/core/series.py?line=4528'>4529</a>\u001b[0m \n\u001b[0;32m   (...)\u001b[0m\n\u001b[1;32m   <a href='file:///Users/furkansaygin/.local/share/virtualenvs/facial_recognition_software-zpc5VR0q/lib/python3.11/site-packages/pandas/core/series.py?line=4627'>4628</a>\u001b[0m \u001b[39m    dtype: float64\u001b[39;00m\n\u001b[1;32m   <a href='file:///Users/furkansaygin/.local/share/virtualenvs/facial_recognition_software-zpc5VR0q/lib/python3.11/site-packages/pandas/core/series.py?line=4628'>4629</a>\u001b[0m \u001b[39m    \"\"\"\u001b[39;00m\n\u001b[0;32m-> <a href='file:///Users/furkansaygin/.local/share/virtualenvs/facial_recognition_software-zpc5VR0q/lib/python3.11/site-packages/pandas/core/series.py?line=4629'>4630</a>\u001b[0m     \u001b[39mreturn\u001b[39;00m SeriesApply(\u001b[39mself\u001b[39;49m, func, convert_dtype, args, kwargs)\u001b[39m.\u001b[39;49mapply()\n",
      "File \u001b[0;32m~/.local/share/virtualenvs/facial_recognition_software-zpc5VR0q/lib/python3.11/site-packages/pandas/core/apply.py:1025\u001b[0m, in \u001b[0;36mSeriesApply.apply\u001b[0;34m(self)\u001b[0m\n\u001b[1;32m   <a href='file:///Users/furkansaygin/.local/share/virtualenvs/facial_recognition_software-zpc5VR0q/lib/python3.11/site-packages/pandas/core/apply.py?line=1021'>1022</a>\u001b[0m     \u001b[39mreturn\u001b[39;00m \u001b[39mself\u001b[39m\u001b[39m.\u001b[39mapply_str()\n\u001b[1;32m   <a href='file:///Users/furkansaygin/.local/share/virtualenvs/facial_recognition_software-zpc5VR0q/lib/python3.11/site-packages/pandas/core/apply.py?line=1023'>1024</a>\u001b[0m \u001b[39m# self.f is Callable\u001b[39;00m\n\u001b[0;32m-> <a href='file:///Users/furkansaygin/.local/share/virtualenvs/facial_recognition_software-zpc5VR0q/lib/python3.11/site-packages/pandas/core/apply.py?line=1024'>1025</a>\u001b[0m \u001b[39mreturn\u001b[39;00m \u001b[39mself\u001b[39;49m\u001b[39m.\u001b[39;49mapply_standard()\n",
      "File \u001b[0;32m~/.local/share/virtualenvs/facial_recognition_software-zpc5VR0q/lib/python3.11/site-packages/pandas/core/apply.py:1076\u001b[0m, in \u001b[0;36mSeriesApply.apply_standard\u001b[0;34m(self)\u001b[0m\n\u001b[1;32m   <a href='file:///Users/furkansaygin/.local/share/virtualenvs/facial_recognition_software-zpc5VR0q/lib/python3.11/site-packages/pandas/core/apply.py?line=1073'>1074</a>\u001b[0m     \u001b[39melse\u001b[39;00m:\n\u001b[1;32m   <a href='file:///Users/furkansaygin/.local/share/virtualenvs/facial_recognition_software-zpc5VR0q/lib/python3.11/site-packages/pandas/core/apply.py?line=1074'>1075</a>\u001b[0m         values \u001b[39m=\u001b[39m obj\u001b[39m.\u001b[39mastype(\u001b[39mobject\u001b[39m)\u001b[39m.\u001b[39m_values\n\u001b[0;32m-> <a href='file:///Users/furkansaygin/.local/share/virtualenvs/facial_recognition_software-zpc5VR0q/lib/python3.11/site-packages/pandas/core/apply.py?line=1075'>1076</a>\u001b[0m         mapped \u001b[39m=\u001b[39m lib\u001b[39m.\u001b[39;49mmap_infer(\n\u001b[1;32m   <a href='file:///Users/furkansaygin/.local/share/virtualenvs/facial_recognition_software-zpc5VR0q/lib/python3.11/site-packages/pandas/core/apply.py?line=1076'>1077</a>\u001b[0m             values,\n\u001b[1;32m   <a href='file:///Users/furkansaygin/.local/share/virtualenvs/facial_recognition_software-zpc5VR0q/lib/python3.11/site-packages/pandas/core/apply.py?line=1077'>1078</a>\u001b[0m             f,\n\u001b[1;32m   <a href='file:///Users/furkansaygin/.local/share/virtualenvs/facial_recognition_software-zpc5VR0q/lib/python3.11/site-packages/pandas/core/apply.py?line=1078'>1079</a>\u001b[0m             convert\u001b[39m=\u001b[39;49m\u001b[39mself\u001b[39;49m\u001b[39m.\u001b[39;49mconvert_dtype,\n\u001b[1;32m   <a href='file:///Users/furkansaygin/.local/share/virtualenvs/facial_recognition_software-zpc5VR0q/lib/python3.11/site-packages/pandas/core/apply.py?line=1079'>1080</a>\u001b[0m         )\n\u001b[1;32m   <a href='file:///Users/furkansaygin/.local/share/virtualenvs/facial_recognition_software-zpc5VR0q/lib/python3.11/site-packages/pandas/core/apply.py?line=1081'>1082</a>\u001b[0m \u001b[39mif\u001b[39;00m \u001b[39mlen\u001b[39m(mapped) \u001b[39mand\u001b[39;00m \u001b[39misinstance\u001b[39m(mapped[\u001b[39m0\u001b[39m], ABCSeries):\n\u001b[1;32m   <a href='file:///Users/furkansaygin/.local/share/virtualenvs/facial_recognition_software-zpc5VR0q/lib/python3.11/site-packages/pandas/core/apply.py?line=1082'>1083</a>\u001b[0m     \u001b[39m# GH#43986 Need to do list(mapped) in order to get treated as nested\u001b[39;00m\n\u001b[1;32m   <a href='file:///Users/furkansaygin/.local/share/virtualenvs/facial_recognition_software-zpc5VR0q/lib/python3.11/site-packages/pandas/core/apply.py?line=1083'>1084</a>\u001b[0m     \u001b[39m#  See also GH#25959 regarding EA support\u001b[39;00m\n\u001b[1;32m   <a href='file:///Users/furkansaygin/.local/share/virtualenvs/facial_recognition_software-zpc5VR0q/lib/python3.11/site-packages/pandas/core/apply.py?line=1084'>1085</a>\u001b[0m     \u001b[39mreturn\u001b[39;00m obj\u001b[39m.\u001b[39m_constructor_expanddim(\u001b[39mlist\u001b[39m(mapped), index\u001b[39m=\u001b[39mobj\u001b[39m.\u001b[39mindex)\n",
      "File \u001b[0;32m~/.local/share/virtualenvs/facial_recognition_software-zpc5VR0q/lib/python3.11/site-packages/pandas/_libs/lib.pyx:2834\u001b[0m, in \u001b[0;36mpandas._libs.lib.map_infer\u001b[0;34m()\u001b[0m\n",
      "Cell \u001b[0;32mIn[17], line 13\u001b[0m, in \u001b[0;36mread_file_contents\u001b[0;34m(filename)\u001b[0m\n\u001b[1;32m     12\u001b[0m \u001b[38;5;28;01mdef\u001b[39;00m \u001b[38;5;21mread_file_contents\u001b[39m(filename):\n\u001b[0;32m---> 13\u001b[0m     filepath \u001b[38;5;241m=\u001b[39m \u001b[43mos\u001b[49m\u001b[38;5;241;43m.\u001b[39;49m\u001b[43mpath\u001b[49m\u001b[38;5;241;43m.\u001b[39;49m\u001b[43mjoin\u001b[49m\u001b[43m(\u001b[49m\u001b[43mtext_files_directory\u001b[49m\u001b[43m,\u001b[49m\u001b[43m \u001b[49m\u001b[43mfilename\u001b[49m\u001b[43m)\u001b[49m\n\u001b[1;32m     15\u001b[0m     \u001b[38;5;66;03m# Überprüfen Sie, ob die Datei existiert, bevor Sie versuchen, sie zu öffnen\u001b[39;00m\n\u001b[1;32m     16\u001b[0m     \u001b[38;5;28;01mif\u001b[39;00m os\u001b[38;5;241m.\u001b[39mpath\u001b[38;5;241m.\u001b[39misfile(filepath):\n",
      "File \u001b[0;32m<frozen posixpath>:90\u001b[0m, in \u001b[0;36mjoin\u001b[0;34m(a, *p)\u001b[0m\n",
      "File \u001b[0;32m<frozen genericpath>:152\u001b[0m, in \u001b[0;36m_check_arg_types\u001b[0;34m(funcname, *args)\u001b[0m\n",
      "\u001b[0;31mTypeError\u001b[0m: join() argument must be str, bytes, or os.PathLike object, not 'float'"
     ]
    }
   ],
   "source": [
    "\n",
    "import os\n",
    "# Teilen Sie die Daten in populistisch und nicht populistisch\n",
    "print(df.columns)\n",
    "\n",
    "populist_files = df[df['rubricgrade'] == 2]['merging_variable']\n",
    "non_populist_files = df[df['rubricgrade'] == 0]['merging_variable']\n",
    "\n",
    "# Verzeichnis mit Ihren Textdateien\n",
    "text_files_directory = '..data/raw/speeches_20220427'\n",
    "\n",
    "# Funktion zum Lesen der Dateiinhalte\n",
    "def read_file_contents(filename):\n",
    "    filepath = os.path.join(text_files_directory, filename)\n",
    "    \n",
    "    # Überprüfen Sie, ob die Datei existiert, bevor Sie versuchen, sie zu öffnen\n",
    "    if os.path.isfile(filepath):\n",
    "        with open(filepath, 'r') as file:\n",
    "            return file.read().replace('\\n', '')\n",
    "    else:\n",
    "        return None  # oder ein leerer String '', je nachdem, was in Ihrem Fall am besten passt\n",
    "\n",
    "# Hinzufügen der Dateiinhalte zu Ihrem DataFrame\n",
    "df['file_contents'] = df['merging_variable'].apply(read_file_contents)\n",
    "\n",
    "# Speichere den bereinigten Datensatz\n",
    "df.to_csv('../data/processed/gpd_processed.csv', index=False)\n",
    "\n",
    "\n",
    "\n"
   ]
  }
 ],
 "metadata": {
  "interpreter": {
   "hash": "0f89325c4e608955f9112ed8991acc730d82c7a6d04377adb00f47e06b2b8546"
  },
  "kernelspec": {
   "display_name": "Python 3.11.2 ('facial_recognition_software-zpc5VR0q')",
   "language": "python",
   "name": "python3"
  },
  "language_info": {
   "codemirror_mode": {
    "name": "ipython",
    "version": 3
   },
   "file_extension": ".py",
   "mimetype": "text/x-python",
   "name": "python",
   "nbconvert_exporter": "python",
   "pygments_lexer": "ipython3",
   "version": "3.11.2"
  },
  "orig_nbformat": 4
 },
 "nbformat": 4,
 "nbformat_minor": 2
}
