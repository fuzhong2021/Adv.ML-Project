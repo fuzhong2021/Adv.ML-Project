{
 "cells": [
  {
   "cell_type": "code",
   "execution_count": 10,
   "metadata": {},
   "outputs": [],
   "source": [
    "# Importiere die notwendigen Bibliotheken\n",
    "from keras.preprocessing.text import Tokenizer\n",
    "from keras.utils import pad_sequences\n",
    "from keras.models import Sequential\n",
    "from keras.metrics import Precision, Recall, AUC\n",
    "from keras.layers import Dense, Embedding, LSTM\n",
    "from sklearn.model_selection import train_test_split\n",
    "from keras.utils.np_utils import to_categorical\n",
    "import pandas as pd\n",
    "import matplotlib.pyplot as plt\n"
   ]
  },
  {
   "cell_type": "code",
   "execution_count": 2,
   "metadata": {},
   "outputs": [],
   "source": [
    "# Lade Datensatz\n",
    "df = pd.read_csv('../data/processed/processed.csv', delimiter=',', encoding='utf-8')\n"
   ]
  },
  {
   "cell_type": "code",
   "execution_count": 5,
   "metadata": {},
   "outputs": [],
   "source": [
    "# Konvertiere alle Werte in der Spalte 'Text' in Strings\n",
    "df['Text'] = df['Text'].astype(str)\n",
    "\n",
    "# Bereite Textdaten vor\n",
    "max_features = 2000\n",
    "tokenizer = Tokenizer(num_words=max_features, split=' ')\n",
    "tokenizer.fit_on_texts(df['Text'].values)\n",
    "X = tokenizer.texts_to_sequences(df['Text'].values)\n",
    "X = pad_sequences(X)\n",
    "y = df['Populism'].values\n"
   ]
  },
  {
   "cell_type": "code",
   "execution_count": 11,
   "metadata": {},
   "outputs": [
    {
     "name": "stdout",
     "output_type": "stream",
     "text": [
      "Model: \"sequential_2\"\n",
      "_________________________________________________________________\n",
      " Layer (type)                Output Shape              Param #   \n",
      "=================================================================\n",
      " embedding_2 (Embedding)     (None, 1243, 128)         256000    \n",
      "                                                                 \n",
      " lstm_2 (LSTM)               (None, 196)               254800    \n",
      "                                                                 \n",
      " dense_2 (Dense)             (None, 1)                 197       \n",
      "                                                                 \n",
      "=================================================================\n",
      "Total params: 510,997\n",
      "Trainable params: 510,997\n",
      "Non-trainable params: 0\n",
      "_________________________________________________________________\n",
      "None\n"
     ]
    }
   ],
   "source": [
    "# Baue das LSTM-Modell\n",
    "embed_dim = 128\n",
    "lstm_out = 196\n",
    "\n",
    "model = Sequential()\n",
    "model.add(Embedding(max_features, embed_dim,input_length = X.shape[1]))\n",
    "model.add(LSTM(lstm_out, dropout=0.2, recurrent_dropout=0.2))\n",
    "model.add(Dense(1, activation='sigmoid'))\n",
    "model.compile(loss='binary_crossentropy',\n",
    "              optimizer='adam',\n",
    "              metrics=['accuracy', \n",
    "                       Precision(), \n",
    "                       Recall(), \n",
    "                       AUC()])\n",
    "\n",
    "print(model.summary())"
   ]
  },
  {
   "cell_type": "code",
   "execution_count": 7,
   "metadata": {},
   "outputs": [],
   "source": [
    "# Split data into 70% train and 30% temp test\n",
    "X_train, X_temp, y_train, y_temp = train_test_split(X, y, test_size=0.3, random_state=42)\n",
    "\n",
    "# Split temp test into 20% validation and 10% test\n",
    "X_val, X_test, y_val, y_test = train_test_split(X_temp, y_temp, test_size=1/3, random_state=42)"
   ]
  },
  {
   "cell_type": "code",
   "execution_count": 13,
   "metadata": {},
   "outputs": [
    {
     "name": "stdout",
     "output_type": "stream",
     "text": [
      "Epoch 1/20\n"
     ]
    },
    {
     "ename": "KeyboardInterrupt",
     "evalue": "",
     "output_type": "error",
     "traceback": [
      "\u001b[0;31m---------------------------------------------------------------------------\u001b[0m",
      "\u001b[0;31mKeyboardInterrupt\u001b[0m                         Traceback (most recent call last)",
      "Cell \u001b[0;32mIn[13], line 3\u001b[0m\n\u001b[1;32m      1\u001b[0m \u001b[38;5;66;03m# Trainiere das Modell\u001b[39;00m\n\u001b[1;32m      2\u001b[0m batch_size \u001b[38;5;241m=\u001b[39m \u001b[38;5;241m8\u001b[39m\n\u001b[0;32m----> 3\u001b[0m history \u001b[38;5;241m=\u001b[39m \u001b[43mmodel\u001b[49m\u001b[38;5;241;43m.\u001b[39;49m\u001b[43mfit\u001b[49m\u001b[43m(\u001b[49m\u001b[43mX_train\u001b[49m\u001b[43m,\u001b[49m\u001b[43m \u001b[49m\u001b[43my_train\u001b[49m\u001b[43m,\u001b[49m\u001b[43m \u001b[49m\u001b[43mepochs\u001b[49m\u001b[43m \u001b[49m\u001b[38;5;241;43m=\u001b[39;49m\u001b[43m \u001b[49m\u001b[38;5;241;43m20\u001b[39;49m\u001b[43m,\u001b[49m\u001b[43m \u001b[49m\u001b[43mbatch_size\u001b[49m\u001b[38;5;241;43m=\u001b[39;49m\u001b[43mbatch_size\u001b[49m\u001b[43m,\u001b[49m\u001b[43m \u001b[49m\u001b[43mverbose\u001b[49m\u001b[43m \u001b[49m\u001b[38;5;241;43m=\u001b[39;49m\u001b[43m \u001b[49m\u001b[38;5;241;43m2\u001b[39;49m\u001b[43m)\u001b[49m\n",
      "File \u001b[0;32m~/.local/share/virtualenvs/facial_recognition_software-zpc5VR0q/lib/python3.11/site-packages/keras/utils/traceback_utils.py:65\u001b[0m, in \u001b[0;36mfilter_traceback.<locals>.error_handler\u001b[0;34m(*args, **kwargs)\u001b[0m\n\u001b[1;32m     <a href='file:///Users/furkansaygin/.local/share/virtualenvs/facial_recognition_software-zpc5VR0q/lib/python3.11/site-packages/keras/utils/traceback_utils.py?line=62'>63</a>\u001b[0m filtered_tb \u001b[39m=\u001b[39m \u001b[39mNone\u001b[39;00m\n\u001b[1;32m     <a href='file:///Users/furkansaygin/.local/share/virtualenvs/facial_recognition_software-zpc5VR0q/lib/python3.11/site-packages/keras/utils/traceback_utils.py?line=63'>64</a>\u001b[0m \u001b[39mtry\u001b[39;00m:\n\u001b[0;32m---> <a href='file:///Users/furkansaygin/.local/share/virtualenvs/facial_recognition_software-zpc5VR0q/lib/python3.11/site-packages/keras/utils/traceback_utils.py?line=64'>65</a>\u001b[0m     \u001b[39mreturn\u001b[39;00m fn(\u001b[39m*\u001b[39;49margs, \u001b[39m*\u001b[39;49m\u001b[39m*\u001b[39;49mkwargs)\n\u001b[1;32m     <a href='file:///Users/furkansaygin/.local/share/virtualenvs/facial_recognition_software-zpc5VR0q/lib/python3.11/site-packages/keras/utils/traceback_utils.py?line=65'>66</a>\u001b[0m \u001b[39mexcept\u001b[39;00m \u001b[39mException\u001b[39;00m \u001b[39mas\u001b[39;00m e:\n\u001b[1;32m     <a href='file:///Users/furkansaygin/.local/share/virtualenvs/facial_recognition_software-zpc5VR0q/lib/python3.11/site-packages/keras/utils/traceback_utils.py?line=66'>67</a>\u001b[0m     filtered_tb \u001b[39m=\u001b[39m _process_traceback_frames(e\u001b[39m.\u001b[39m__traceback__)\n",
      "File \u001b[0;32m~/.local/share/virtualenvs/facial_recognition_software-zpc5VR0q/lib/python3.11/site-packages/keras/engine/training.py:1685\u001b[0m, in \u001b[0;36mModel.fit\u001b[0;34m(self, x, y, batch_size, epochs, verbose, callbacks, validation_split, validation_data, shuffle, class_weight, sample_weight, initial_epoch, steps_per_epoch, validation_steps, validation_batch_size, validation_freq, max_queue_size, workers, use_multiprocessing)\u001b[0m\n\u001b[1;32m   <a href='file:///Users/furkansaygin/.local/share/virtualenvs/facial_recognition_software-zpc5VR0q/lib/python3.11/site-packages/keras/engine/training.py?line=1676'>1677</a>\u001b[0m \u001b[39mwith\u001b[39;00m tf\u001b[39m.\u001b[39mprofiler\u001b[39m.\u001b[39mexperimental\u001b[39m.\u001b[39mTrace(\n\u001b[1;32m   <a href='file:///Users/furkansaygin/.local/share/virtualenvs/facial_recognition_software-zpc5VR0q/lib/python3.11/site-packages/keras/engine/training.py?line=1677'>1678</a>\u001b[0m     \u001b[39m\"\u001b[39m\u001b[39mtrain\u001b[39m\u001b[39m\"\u001b[39m,\n\u001b[1;32m   <a href='file:///Users/furkansaygin/.local/share/virtualenvs/facial_recognition_software-zpc5VR0q/lib/python3.11/site-packages/keras/engine/training.py?line=1678'>1679</a>\u001b[0m     epoch_num\u001b[39m=\u001b[39mepoch,\n\u001b[0;32m   (...)\u001b[0m\n\u001b[1;32m   <a href='file:///Users/furkansaygin/.local/share/virtualenvs/facial_recognition_software-zpc5VR0q/lib/python3.11/site-packages/keras/engine/training.py?line=1681'>1682</a>\u001b[0m     _r\u001b[39m=\u001b[39m\u001b[39m1\u001b[39m,\n\u001b[1;32m   <a href='file:///Users/furkansaygin/.local/share/virtualenvs/facial_recognition_software-zpc5VR0q/lib/python3.11/site-packages/keras/engine/training.py?line=1682'>1683</a>\u001b[0m ):\n\u001b[1;32m   <a href='file:///Users/furkansaygin/.local/share/virtualenvs/facial_recognition_software-zpc5VR0q/lib/python3.11/site-packages/keras/engine/training.py?line=1683'>1684</a>\u001b[0m     callbacks\u001b[39m.\u001b[39mon_train_batch_begin(step)\n\u001b[0;32m-> <a href='file:///Users/furkansaygin/.local/share/virtualenvs/facial_recognition_software-zpc5VR0q/lib/python3.11/site-packages/keras/engine/training.py?line=1684'>1685</a>\u001b[0m     tmp_logs \u001b[39m=\u001b[39m \u001b[39mself\u001b[39;49m\u001b[39m.\u001b[39;49mtrain_function(iterator)\n\u001b[1;32m   <a href='file:///Users/furkansaygin/.local/share/virtualenvs/facial_recognition_software-zpc5VR0q/lib/python3.11/site-packages/keras/engine/training.py?line=1685'>1686</a>\u001b[0m     \u001b[39mif\u001b[39;00m data_handler\u001b[39m.\u001b[39mshould_sync:\n\u001b[1;32m   <a href='file:///Users/furkansaygin/.local/share/virtualenvs/facial_recognition_software-zpc5VR0q/lib/python3.11/site-packages/keras/engine/training.py?line=1686'>1687</a>\u001b[0m         context\u001b[39m.\u001b[39masync_wait()\n",
      "File \u001b[0;32m~/.local/share/virtualenvs/facial_recognition_software-zpc5VR0q/lib/python3.11/site-packages/tensorflow/python/util/traceback_utils.py:150\u001b[0m, in \u001b[0;36mfilter_traceback.<locals>.error_handler\u001b[0;34m(*args, **kwargs)\u001b[0m\n\u001b[1;32m    <a href='file:///Users/furkansaygin/.local/share/virtualenvs/facial_recognition_software-zpc5VR0q/lib/python3.11/site-packages/tensorflow/python/util/traceback_utils.py?line=147'>148</a>\u001b[0m filtered_tb \u001b[39m=\u001b[39m \u001b[39mNone\u001b[39;00m\n\u001b[1;32m    <a href='file:///Users/furkansaygin/.local/share/virtualenvs/facial_recognition_software-zpc5VR0q/lib/python3.11/site-packages/tensorflow/python/util/traceback_utils.py?line=148'>149</a>\u001b[0m \u001b[39mtry\u001b[39;00m:\n\u001b[0;32m--> <a href='file:///Users/furkansaygin/.local/share/virtualenvs/facial_recognition_software-zpc5VR0q/lib/python3.11/site-packages/tensorflow/python/util/traceback_utils.py?line=149'>150</a>\u001b[0m   \u001b[39mreturn\u001b[39;00m fn(\u001b[39m*\u001b[39;49margs, \u001b[39m*\u001b[39;49m\u001b[39m*\u001b[39;49mkwargs)\n\u001b[1;32m    <a href='file:///Users/furkansaygin/.local/share/virtualenvs/facial_recognition_software-zpc5VR0q/lib/python3.11/site-packages/tensorflow/python/util/traceback_utils.py?line=150'>151</a>\u001b[0m \u001b[39mexcept\u001b[39;00m \u001b[39mException\u001b[39;00m \u001b[39mas\u001b[39;00m e:\n\u001b[1;32m    <a href='file:///Users/furkansaygin/.local/share/virtualenvs/facial_recognition_software-zpc5VR0q/lib/python3.11/site-packages/tensorflow/python/util/traceback_utils.py?line=151'>152</a>\u001b[0m   filtered_tb \u001b[39m=\u001b[39m _process_traceback_frames(e\u001b[39m.\u001b[39m__traceback__)\n",
      "File \u001b[0;32m~/.local/share/virtualenvs/facial_recognition_software-zpc5VR0q/lib/python3.11/site-packages/tensorflow/python/eager/polymorphic_function/polymorphic_function.py:894\u001b[0m, in \u001b[0;36mFunction.__call__\u001b[0;34m(self, *args, **kwds)\u001b[0m\n\u001b[1;32m    <a href='file:///Users/furkansaygin/.local/share/virtualenvs/facial_recognition_software-zpc5VR0q/lib/python3.11/site-packages/tensorflow/python/eager/polymorphic_function/polymorphic_function.py?line=890'>891</a>\u001b[0m compiler \u001b[39m=\u001b[39m \u001b[39m\"\u001b[39m\u001b[39mxla\u001b[39m\u001b[39m\"\u001b[39m \u001b[39mif\u001b[39;00m \u001b[39mself\u001b[39m\u001b[39m.\u001b[39m_jit_compile \u001b[39melse\u001b[39;00m \u001b[39m\"\u001b[39m\u001b[39mnonXla\u001b[39m\u001b[39m\"\u001b[39m\n\u001b[1;32m    <a href='file:///Users/furkansaygin/.local/share/virtualenvs/facial_recognition_software-zpc5VR0q/lib/python3.11/site-packages/tensorflow/python/eager/polymorphic_function/polymorphic_function.py?line=892'>893</a>\u001b[0m \u001b[39mwith\u001b[39;00m OptionalXlaContext(\u001b[39mself\u001b[39m\u001b[39m.\u001b[39m_jit_compile):\n\u001b[0;32m--> <a href='file:///Users/furkansaygin/.local/share/virtualenvs/facial_recognition_software-zpc5VR0q/lib/python3.11/site-packages/tensorflow/python/eager/polymorphic_function/polymorphic_function.py?line=893'>894</a>\u001b[0m   result \u001b[39m=\u001b[39m \u001b[39mself\u001b[39;49m\u001b[39m.\u001b[39;49m_call(\u001b[39m*\u001b[39;49margs, \u001b[39m*\u001b[39;49m\u001b[39m*\u001b[39;49mkwds)\n\u001b[1;32m    <a href='file:///Users/furkansaygin/.local/share/virtualenvs/facial_recognition_software-zpc5VR0q/lib/python3.11/site-packages/tensorflow/python/eager/polymorphic_function/polymorphic_function.py?line=895'>896</a>\u001b[0m new_tracing_count \u001b[39m=\u001b[39m \u001b[39mself\u001b[39m\u001b[39m.\u001b[39mexperimental_get_tracing_count()\n\u001b[1;32m    <a href='file:///Users/furkansaygin/.local/share/virtualenvs/facial_recognition_software-zpc5VR0q/lib/python3.11/site-packages/tensorflow/python/eager/polymorphic_function/polymorphic_function.py?line=896'>897</a>\u001b[0m without_tracing \u001b[39m=\u001b[39m (tracing_count \u001b[39m==\u001b[39m new_tracing_count)\n",
      "File \u001b[0;32m~/.local/share/virtualenvs/facial_recognition_software-zpc5VR0q/lib/python3.11/site-packages/tensorflow/python/eager/polymorphic_function/polymorphic_function.py:926\u001b[0m, in \u001b[0;36mFunction._call\u001b[0;34m(self, *args, **kwds)\u001b[0m\n\u001b[1;32m    <a href='file:///Users/furkansaygin/.local/share/virtualenvs/facial_recognition_software-zpc5VR0q/lib/python3.11/site-packages/tensorflow/python/eager/polymorphic_function/polymorphic_function.py?line=922'>923</a>\u001b[0m   \u001b[39mself\u001b[39m\u001b[39m.\u001b[39m_lock\u001b[39m.\u001b[39mrelease()\n\u001b[1;32m    <a href='file:///Users/furkansaygin/.local/share/virtualenvs/facial_recognition_software-zpc5VR0q/lib/python3.11/site-packages/tensorflow/python/eager/polymorphic_function/polymorphic_function.py?line=923'>924</a>\u001b[0m   \u001b[39m# In this case we have created variables on the first call, so we run the\u001b[39;00m\n\u001b[1;32m    <a href='file:///Users/furkansaygin/.local/share/virtualenvs/facial_recognition_software-zpc5VR0q/lib/python3.11/site-packages/tensorflow/python/eager/polymorphic_function/polymorphic_function.py?line=924'>925</a>\u001b[0m   \u001b[39m# defunned version which is guaranteed to never create variables.\u001b[39;00m\n\u001b[0;32m--> <a href='file:///Users/furkansaygin/.local/share/virtualenvs/facial_recognition_software-zpc5VR0q/lib/python3.11/site-packages/tensorflow/python/eager/polymorphic_function/polymorphic_function.py?line=925'>926</a>\u001b[0m   \u001b[39mreturn\u001b[39;00m \u001b[39mself\u001b[39;49m\u001b[39m.\u001b[39;49m_no_variable_creation_fn(\u001b[39m*\u001b[39;49margs, \u001b[39m*\u001b[39;49m\u001b[39m*\u001b[39;49mkwds)  \u001b[39m# pylint: disable=not-callable\u001b[39;00m\n\u001b[1;32m    <a href='file:///Users/furkansaygin/.local/share/virtualenvs/facial_recognition_software-zpc5VR0q/lib/python3.11/site-packages/tensorflow/python/eager/polymorphic_function/polymorphic_function.py?line=926'>927</a>\u001b[0m \u001b[39melif\u001b[39;00m \u001b[39mself\u001b[39m\u001b[39m.\u001b[39m_variable_creation_fn \u001b[39mis\u001b[39;00m \u001b[39mnot\u001b[39;00m \u001b[39mNone\u001b[39;00m:\n\u001b[1;32m    <a href='file:///Users/furkansaygin/.local/share/virtualenvs/facial_recognition_software-zpc5VR0q/lib/python3.11/site-packages/tensorflow/python/eager/polymorphic_function/polymorphic_function.py?line=927'>928</a>\u001b[0m   \u001b[39m# Release the lock early so that multiple threads can perform the call\u001b[39;00m\n\u001b[1;32m    <a href='file:///Users/furkansaygin/.local/share/virtualenvs/facial_recognition_software-zpc5VR0q/lib/python3.11/site-packages/tensorflow/python/eager/polymorphic_function/polymorphic_function.py?line=928'>929</a>\u001b[0m   \u001b[39m# in parallel.\u001b[39;00m\n\u001b[1;32m    <a href='file:///Users/furkansaygin/.local/share/virtualenvs/facial_recognition_software-zpc5VR0q/lib/python3.11/site-packages/tensorflow/python/eager/polymorphic_function/polymorphic_function.py?line=929'>930</a>\u001b[0m   \u001b[39mself\u001b[39m\u001b[39m.\u001b[39m_lock\u001b[39m.\u001b[39mrelease()\n",
      "File \u001b[0;32m~/.local/share/virtualenvs/facial_recognition_software-zpc5VR0q/lib/python3.11/site-packages/tensorflow/python/eager/polymorphic_function/tracing_compiler.py:143\u001b[0m, in \u001b[0;36mTracingCompiler.__call__\u001b[0;34m(self, *args, **kwargs)\u001b[0m\n\u001b[1;32m    <a href='file:///Users/furkansaygin/.local/share/virtualenvs/facial_recognition_software-zpc5VR0q/lib/python3.11/site-packages/tensorflow/python/eager/polymorphic_function/tracing_compiler.py?line=139'>140</a>\u001b[0m \u001b[39mwith\u001b[39;00m \u001b[39mself\u001b[39m\u001b[39m.\u001b[39m_lock:\n\u001b[1;32m    <a href='file:///Users/furkansaygin/.local/share/virtualenvs/facial_recognition_software-zpc5VR0q/lib/python3.11/site-packages/tensorflow/python/eager/polymorphic_function/tracing_compiler.py?line=140'>141</a>\u001b[0m   (concrete_function,\n\u001b[1;32m    <a href='file:///Users/furkansaygin/.local/share/virtualenvs/facial_recognition_software-zpc5VR0q/lib/python3.11/site-packages/tensorflow/python/eager/polymorphic_function/tracing_compiler.py?line=141'>142</a>\u001b[0m    filtered_flat_args) \u001b[39m=\u001b[39m \u001b[39mself\u001b[39m\u001b[39m.\u001b[39m_maybe_define_function(args, kwargs)\n\u001b[0;32m--> <a href='file:///Users/furkansaygin/.local/share/virtualenvs/facial_recognition_software-zpc5VR0q/lib/python3.11/site-packages/tensorflow/python/eager/polymorphic_function/tracing_compiler.py?line=142'>143</a>\u001b[0m \u001b[39mreturn\u001b[39;00m concrete_function\u001b[39m.\u001b[39;49m_call_flat(\n\u001b[1;32m    <a href='file:///Users/furkansaygin/.local/share/virtualenvs/facial_recognition_software-zpc5VR0q/lib/python3.11/site-packages/tensorflow/python/eager/polymorphic_function/tracing_compiler.py?line=143'>144</a>\u001b[0m     filtered_flat_args, captured_inputs\u001b[39m=\u001b[39;49mconcrete_function\u001b[39m.\u001b[39;49mcaptured_inputs)\n",
      "File \u001b[0;32m~/.local/share/virtualenvs/facial_recognition_software-zpc5VR0q/lib/python3.11/site-packages/tensorflow/python/eager/polymorphic_function/monomorphic_function.py:1757\u001b[0m, in \u001b[0;36mConcreteFunction._call_flat\u001b[0;34m(self, args, captured_inputs, cancellation_manager)\u001b[0m\n\u001b[1;32m   <a href='file:///Users/furkansaygin/.local/share/virtualenvs/facial_recognition_software-zpc5VR0q/lib/python3.11/site-packages/tensorflow/python/eager/polymorphic_function/monomorphic_function.py?line=1752'>1753</a>\u001b[0m possible_gradient_type \u001b[39m=\u001b[39m gradients_util\u001b[39m.\u001b[39mPossibleTapeGradientTypes(args)\n\u001b[1;32m   <a href='file:///Users/furkansaygin/.local/share/virtualenvs/facial_recognition_software-zpc5VR0q/lib/python3.11/site-packages/tensorflow/python/eager/polymorphic_function/monomorphic_function.py?line=1753'>1754</a>\u001b[0m \u001b[39mif\u001b[39;00m (possible_gradient_type \u001b[39m==\u001b[39m gradients_util\u001b[39m.\u001b[39mPOSSIBLE_GRADIENT_TYPES_NONE\n\u001b[1;32m   <a href='file:///Users/furkansaygin/.local/share/virtualenvs/facial_recognition_software-zpc5VR0q/lib/python3.11/site-packages/tensorflow/python/eager/polymorphic_function/monomorphic_function.py?line=1754'>1755</a>\u001b[0m     \u001b[39mand\u001b[39;00m executing_eagerly):\n\u001b[1;32m   <a href='file:///Users/furkansaygin/.local/share/virtualenvs/facial_recognition_software-zpc5VR0q/lib/python3.11/site-packages/tensorflow/python/eager/polymorphic_function/monomorphic_function.py?line=1755'>1756</a>\u001b[0m   \u001b[39m# No tape is watching; skip to running the function.\u001b[39;00m\n\u001b[0;32m-> <a href='file:///Users/furkansaygin/.local/share/virtualenvs/facial_recognition_software-zpc5VR0q/lib/python3.11/site-packages/tensorflow/python/eager/polymorphic_function/monomorphic_function.py?line=1756'>1757</a>\u001b[0m   \u001b[39mreturn\u001b[39;00m \u001b[39mself\u001b[39m\u001b[39m.\u001b[39m_build_call_outputs(\u001b[39mself\u001b[39;49m\u001b[39m.\u001b[39;49m_inference_function\u001b[39m.\u001b[39;49mcall(\n\u001b[1;32m   <a href='file:///Users/furkansaygin/.local/share/virtualenvs/facial_recognition_software-zpc5VR0q/lib/python3.11/site-packages/tensorflow/python/eager/polymorphic_function/monomorphic_function.py?line=1757'>1758</a>\u001b[0m       ctx, args, cancellation_manager\u001b[39m=\u001b[39;49mcancellation_manager))\n\u001b[1;32m   <a href='file:///Users/furkansaygin/.local/share/virtualenvs/facial_recognition_software-zpc5VR0q/lib/python3.11/site-packages/tensorflow/python/eager/polymorphic_function/monomorphic_function.py?line=1758'>1759</a>\u001b[0m forward_backward \u001b[39m=\u001b[39m \u001b[39mself\u001b[39m\u001b[39m.\u001b[39m_select_forward_and_backward_functions(\n\u001b[1;32m   <a href='file:///Users/furkansaygin/.local/share/virtualenvs/facial_recognition_software-zpc5VR0q/lib/python3.11/site-packages/tensorflow/python/eager/polymorphic_function/monomorphic_function.py?line=1759'>1760</a>\u001b[0m     args,\n\u001b[1;32m   <a href='file:///Users/furkansaygin/.local/share/virtualenvs/facial_recognition_software-zpc5VR0q/lib/python3.11/site-packages/tensorflow/python/eager/polymorphic_function/monomorphic_function.py?line=1760'>1761</a>\u001b[0m     possible_gradient_type,\n\u001b[1;32m   <a href='file:///Users/furkansaygin/.local/share/virtualenvs/facial_recognition_software-zpc5VR0q/lib/python3.11/site-packages/tensorflow/python/eager/polymorphic_function/monomorphic_function.py?line=1761'>1762</a>\u001b[0m     executing_eagerly)\n\u001b[1;32m   <a href='file:///Users/furkansaygin/.local/share/virtualenvs/facial_recognition_software-zpc5VR0q/lib/python3.11/site-packages/tensorflow/python/eager/polymorphic_function/monomorphic_function.py?line=1762'>1763</a>\u001b[0m forward_function, args_with_tangents \u001b[39m=\u001b[39m forward_backward\u001b[39m.\u001b[39mforward()\n",
      "File \u001b[0;32m~/.local/share/virtualenvs/facial_recognition_software-zpc5VR0q/lib/python3.11/site-packages/tensorflow/python/eager/polymorphic_function/monomorphic_function.py:381\u001b[0m, in \u001b[0;36m_EagerDefinedFunction.call\u001b[0;34m(self, ctx, args, cancellation_manager)\u001b[0m\n\u001b[1;32m    <a href='file:///Users/furkansaygin/.local/share/virtualenvs/facial_recognition_software-zpc5VR0q/lib/python3.11/site-packages/tensorflow/python/eager/polymorphic_function/monomorphic_function.py?line=378'>379</a>\u001b[0m \u001b[39mwith\u001b[39;00m _InterpolateFunctionError(\u001b[39mself\u001b[39m):\n\u001b[1;32m    <a href='file:///Users/furkansaygin/.local/share/virtualenvs/facial_recognition_software-zpc5VR0q/lib/python3.11/site-packages/tensorflow/python/eager/polymorphic_function/monomorphic_function.py?line=379'>380</a>\u001b[0m   \u001b[39mif\u001b[39;00m cancellation_manager \u001b[39mis\u001b[39;00m \u001b[39mNone\u001b[39;00m:\n\u001b[0;32m--> <a href='file:///Users/furkansaygin/.local/share/virtualenvs/facial_recognition_software-zpc5VR0q/lib/python3.11/site-packages/tensorflow/python/eager/polymorphic_function/monomorphic_function.py?line=380'>381</a>\u001b[0m     outputs \u001b[39m=\u001b[39m execute\u001b[39m.\u001b[39;49mexecute(\n\u001b[1;32m    <a href='file:///Users/furkansaygin/.local/share/virtualenvs/facial_recognition_software-zpc5VR0q/lib/python3.11/site-packages/tensorflow/python/eager/polymorphic_function/monomorphic_function.py?line=381'>382</a>\u001b[0m         \u001b[39mstr\u001b[39;49m(\u001b[39mself\u001b[39;49m\u001b[39m.\u001b[39;49msignature\u001b[39m.\u001b[39;49mname),\n\u001b[1;32m    <a href='file:///Users/furkansaygin/.local/share/virtualenvs/facial_recognition_software-zpc5VR0q/lib/python3.11/site-packages/tensorflow/python/eager/polymorphic_function/monomorphic_function.py?line=382'>383</a>\u001b[0m         num_outputs\u001b[39m=\u001b[39;49m\u001b[39mself\u001b[39;49m\u001b[39m.\u001b[39;49m_num_outputs,\n\u001b[1;32m    <a href='file:///Users/furkansaygin/.local/share/virtualenvs/facial_recognition_software-zpc5VR0q/lib/python3.11/site-packages/tensorflow/python/eager/polymorphic_function/monomorphic_function.py?line=383'>384</a>\u001b[0m         inputs\u001b[39m=\u001b[39;49margs,\n\u001b[1;32m    <a href='file:///Users/furkansaygin/.local/share/virtualenvs/facial_recognition_software-zpc5VR0q/lib/python3.11/site-packages/tensorflow/python/eager/polymorphic_function/monomorphic_function.py?line=384'>385</a>\u001b[0m         attrs\u001b[39m=\u001b[39;49mattrs,\n\u001b[1;32m    <a href='file:///Users/furkansaygin/.local/share/virtualenvs/facial_recognition_software-zpc5VR0q/lib/python3.11/site-packages/tensorflow/python/eager/polymorphic_function/monomorphic_function.py?line=385'>386</a>\u001b[0m         ctx\u001b[39m=\u001b[39;49mctx)\n\u001b[1;32m    <a href='file:///Users/furkansaygin/.local/share/virtualenvs/facial_recognition_software-zpc5VR0q/lib/python3.11/site-packages/tensorflow/python/eager/polymorphic_function/monomorphic_function.py?line=386'>387</a>\u001b[0m   \u001b[39melse\u001b[39;00m:\n\u001b[1;32m    <a href='file:///Users/furkansaygin/.local/share/virtualenvs/facial_recognition_software-zpc5VR0q/lib/python3.11/site-packages/tensorflow/python/eager/polymorphic_function/monomorphic_function.py?line=387'>388</a>\u001b[0m     outputs \u001b[39m=\u001b[39m execute\u001b[39m.\u001b[39mexecute_with_cancellation(\n\u001b[1;32m    <a href='file:///Users/furkansaygin/.local/share/virtualenvs/facial_recognition_software-zpc5VR0q/lib/python3.11/site-packages/tensorflow/python/eager/polymorphic_function/monomorphic_function.py?line=388'>389</a>\u001b[0m         \u001b[39mstr\u001b[39m(\u001b[39mself\u001b[39m\u001b[39m.\u001b[39msignature\u001b[39m.\u001b[39mname),\n\u001b[1;32m    <a href='file:///Users/furkansaygin/.local/share/virtualenvs/facial_recognition_software-zpc5VR0q/lib/python3.11/site-packages/tensorflow/python/eager/polymorphic_function/monomorphic_function.py?line=389'>390</a>\u001b[0m         num_outputs\u001b[39m=\u001b[39m\u001b[39mself\u001b[39m\u001b[39m.\u001b[39m_num_outputs,\n\u001b[0;32m   (...)\u001b[0m\n\u001b[1;32m    <a href='file:///Users/furkansaygin/.local/share/virtualenvs/facial_recognition_software-zpc5VR0q/lib/python3.11/site-packages/tensorflow/python/eager/polymorphic_function/monomorphic_function.py?line=392'>393</a>\u001b[0m         ctx\u001b[39m=\u001b[39mctx,\n\u001b[1;32m    <a href='file:///Users/furkansaygin/.local/share/virtualenvs/facial_recognition_software-zpc5VR0q/lib/python3.11/site-packages/tensorflow/python/eager/polymorphic_function/monomorphic_function.py?line=393'>394</a>\u001b[0m         cancellation_manager\u001b[39m=\u001b[39mcancellation_manager)\n",
      "File \u001b[0;32m~/.local/share/virtualenvs/facial_recognition_software-zpc5VR0q/lib/python3.11/site-packages/tensorflow/python/eager/execute.py:52\u001b[0m, in \u001b[0;36mquick_execute\u001b[0;34m(op_name, num_outputs, inputs, attrs, ctx, name)\u001b[0m\n\u001b[1;32m     <a href='file:///Users/furkansaygin/.local/share/virtualenvs/facial_recognition_software-zpc5VR0q/lib/python3.11/site-packages/tensorflow/python/eager/execute.py?line=49'>50</a>\u001b[0m \u001b[39mtry\u001b[39;00m:\n\u001b[1;32m     <a href='file:///Users/furkansaygin/.local/share/virtualenvs/facial_recognition_software-zpc5VR0q/lib/python3.11/site-packages/tensorflow/python/eager/execute.py?line=50'>51</a>\u001b[0m   ctx\u001b[39m.\u001b[39mensure_initialized()\n\u001b[0;32m---> <a href='file:///Users/furkansaygin/.local/share/virtualenvs/facial_recognition_software-zpc5VR0q/lib/python3.11/site-packages/tensorflow/python/eager/execute.py?line=51'>52</a>\u001b[0m   tensors \u001b[39m=\u001b[39m pywrap_tfe\u001b[39m.\u001b[39;49mTFE_Py_Execute(ctx\u001b[39m.\u001b[39;49m_handle, device_name, op_name,\n\u001b[1;32m     <a href='file:///Users/furkansaygin/.local/share/virtualenvs/facial_recognition_software-zpc5VR0q/lib/python3.11/site-packages/tensorflow/python/eager/execute.py?line=52'>53</a>\u001b[0m                                       inputs, attrs, num_outputs)\n\u001b[1;32m     <a href='file:///Users/furkansaygin/.local/share/virtualenvs/facial_recognition_software-zpc5VR0q/lib/python3.11/site-packages/tensorflow/python/eager/execute.py?line=53'>54</a>\u001b[0m \u001b[39mexcept\u001b[39;00m core\u001b[39m.\u001b[39m_NotOkStatusException \u001b[39mas\u001b[39;00m e:\n\u001b[1;32m     <a href='file:///Users/furkansaygin/.local/share/virtualenvs/facial_recognition_software-zpc5VR0q/lib/python3.11/site-packages/tensorflow/python/eager/execute.py?line=54'>55</a>\u001b[0m   \u001b[39mif\u001b[39;00m name \u001b[39mis\u001b[39;00m \u001b[39mnot\u001b[39;00m \u001b[39mNone\u001b[39;00m:\n",
      "\u001b[0;31mKeyboardInterrupt\u001b[0m: "
     ]
    }
   ],
   "source": [
    "# Trainiere das Modell\n",
    "batch_size = 8\n",
    "history = model.fit(X_train, y_train, epochs = 20, batch_size=batch_size, verbose = 2)"
   ]
  },
  {
   "cell_type": "code",
   "execution_count": null,
   "metadata": {},
   "outputs": [],
   "source": [
    "# Plotten Sie die Trainingsgenauigkeit\n",
    "plt.figure(figsize=(12, 6))\n",
    "plt.plot(history.history['accuracy'])\n",
    "plt.title('Model accuracy')\n",
    "plt.ylabel('Accuracy')\n",
    "plt.xlabel('Epoch')\n",
    "plt.legend(['Train'], loc='upper left')\n",
    "plt.show()\n",
    "\n",
    "# Plotten Sie den Trainingsverlust\n",
    "plt.figure(figsize=(12, 6))\n",
    "plt.plot(history.history['loss'])\n",
    "plt.title('Model loss')\n",
    "plt.ylabel('Loss')\n",
    "plt.xlabel('Epoch')\n",
    "plt.legend(['Train'], loc='upper left')\n",
    "plt.show()"
   ]
  },
  {
   "cell_type": "code",
   "execution_count": null,
   "metadata": {},
   "outputs": [],
   "source": [
    "# Plotten Sie den Trainings-Recall\n",
    "plt.figure(figsize=(12, 6))\n",
    "plt.plot(history.history['recall'])\n",
    "plt.title('Model recall')\n",
    "plt.ylabel('Recall')\n",
    "plt.xlabel('Epoch')\n",
    "plt.legend(['Train'], loc='upper left')\n",
    "plt.show()\n",
    "\n",
    "# Plotten Sie die Trainings-Precision\n",
    "plt.figure(figsize=(12, 6))\n",
    "plt.plot(history.history['precision'])\n",
    "plt.title('Model precision')\n",
    "plt.ylabel('Precision')\n",
    "plt.xlabel('Epoch')\n",
    "plt.legend(['Train'], loc='upper left')\n",
    "plt.show()\n",
    "\n",
    "# Plotten Sie die Trainings-AUC\n",
    "plt.figure(figsize=(12, 6))\n",
    "plt.plot(history.history['auc'])\n",
    "plt.title('Model AUC')\n",
    "plt.ylabel('AUC')\n",
    "plt.xlabel('Epoch')\n",
    "plt.legend(['Train'], loc='upper left')\n",
    "plt.show()\n"
   ]
  }
 ],
 "metadata": {
  "interpreter": {
   "hash": "0f89325c4e608955f9112ed8991acc730d82c7a6d04377adb00f47e06b2b8546"
  },
  "kernelspec": {
   "display_name": "Python 3.11.2 ('facial_recognition_software-zpc5VR0q')",
   "language": "python",
   "name": "python3"
  },
  "language_info": {
   "codemirror_mode": {
    "name": "ipython",
    "version": 3
   },
   "file_extension": ".py",
   "mimetype": "text/x-python",
   "name": "python",
   "nbconvert_exporter": "python",
   "pygments_lexer": "ipython3",
   "version": "3.10.9"
  },
  "orig_nbformat": 4
 },
 "nbformat": 4,
 "nbformat_minor": 2
}
